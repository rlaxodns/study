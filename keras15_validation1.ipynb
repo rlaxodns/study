{
  "nbformat": 4,
  "nbformat_minor": 0,
  "metadata": {
    "colab": {
      "provenance": [],
      "authorship_tag": "ABX9TyNBYHS08DpGczAVBPDaNJQ2",
      "include_colab_link": true
    },
    "kernelspec": {
      "name": "python3",
      "display_name": "Python 3"
    },
    "language_info": {
      "name": "python"
    }
  },
  "cells": [
    {
      "cell_type": "markdown",
      "metadata": {
        "id": "view-in-github",
        "colab_type": "text"
      },
      "source": [
        "<a href=\"https://colab.research.google.com/github/rlaxodns/study/blob/main/keras15_validation1.ipynb\" target=\"_parent\"><img src=\"https://colab.research.google.com/assets/colab-badge.svg\" alt=\"Open In Colab\"/></a>"
      ]
    },
    {
      "cell_type": "markdown",
      "source": [
        "#검증을 통한 데이터의 오차값 줄이기"
      ],
      "metadata": {
        "id": "Orw7eJ3VTfuM"
      }
    },
    {
      "cell_type": "code",
      "source": [
        "import numpy as np\n",
        "from keras.models import Sequential\n",
        "from keras.layers import Dense"
      ],
      "metadata": {
        "id": "7IQsb-h3Tglg"
      },
      "execution_count": null,
      "outputs": []
    },
    {
      "cell_type": "code",
      "source": [
        "# 데이터 구성\n",
        "x = np.array(range(10))\n",
        "y = np.array(range(10))\n",
        "\n",
        "x_train = np.array(range(6))\n",
        "y_train = np.array(range(6))\n",
        "\n",
        "x_test = np.array(range(6,10))\n",
        "y_test = np.array(range(6,10))\n",
        "\n",
        "# validation data 추가하기\n",
        "x_val = np.array([4,5])\n",
        "y_val = np.array([4,5])"
      ],
      "metadata": {
        "id": "uG2zY51kTf_u"
      },
      "execution_count": null,
      "outputs": []
    },
    {
      "cell_type": "code",
      "execution_count": null,
      "metadata": {
        "id": "pKmg9h6jTaXF"
      },
      "outputs": [],
      "source": [
        "# 모델 구성\n",
        "model =Sequential()\n",
        "model.add(Dense(1, input_dim=1))"
      ]
    },
    {
      "cell_type": "code",
      "source": [
        "# 컴파일 및 훈련\n",
        "model.compile(loss = 'mse', optimizer = 'adam')\n",
        "model.fit(x_train, y_train, epochs = 100, batch_size =1, validation_data = (x_val, y_val)) #val_data가 존재하기 때문에 메소드를 validation_data()를 사용"
      ],
      "metadata": {
        "colab": {
          "base_uri": "https://localhost:8080/"
        },
        "id": "NbU1M8-RUoQ6",
        "outputId": "741bdd93-e704-484b-d4f9-0410f399706a"
      },
      "execution_count": null,
      "outputs": [
        {
          "output_type": "stream",
          "name": "stdout",
          "text": [
            "Epoch 1/100\n",
            "6/6 [==============================] - 1s 41ms/step - loss: 2.9660 - val_loss: 6.5261\n",
            "Epoch 2/100\n",
            "6/6 [==============================] - 0s 9ms/step - loss: 2.8934 - val_loss: 6.4123\n",
            "Epoch 3/100\n",
            "6/6 [==============================] - 0s 8ms/step - loss: 2.8439 - val_loss: 6.2911\n",
            "Epoch 4/100\n",
            "6/6 [==============================] - 0s 7ms/step - loss: 2.7808 - val_loss: 6.1768\n",
            "Epoch 5/100\n",
            "6/6 [==============================] - 0s 14ms/step - loss: 2.7288 - val_loss: 6.0590\n",
            "Epoch 6/100\n",
            "6/6 [==============================] - 0s 9ms/step - loss: 2.6710 - val_loss: 5.9445\n",
            "Epoch 7/100\n",
            "6/6 [==============================] - 0s 12ms/step - loss: 2.6228 - val_loss: 5.8239\n",
            "Epoch 8/100\n",
            "6/6 [==============================] - 0s 9ms/step - loss: 2.5595 - val_loss: 5.7157\n",
            "Epoch 9/100\n",
            "6/6 [==============================] - 0s 11ms/step - loss: 2.5076 - val_loss: 5.6077\n",
            "Epoch 10/100\n",
            "6/6 [==============================] - 0s 7ms/step - loss: 2.4597 - val_loss: 5.4953\n",
            "Epoch 11/100\n",
            "6/6 [==============================] - 0s 11ms/step - loss: 2.4210 - val_loss: 5.3732\n",
            "Epoch 12/100\n",
            "6/6 [==============================] - 0s 10ms/step - loss: 2.3542 - val_loss: 5.2705\n",
            "Epoch 13/100\n",
            "6/6 [==============================] - 0s 8ms/step - loss: 2.3063 - val_loss: 5.1672\n",
            "Epoch 14/100\n",
            "6/6 [==============================] - 0s 8ms/step - loss: 2.2648 - val_loss: 5.0572\n",
            "Epoch 15/100\n",
            "6/6 [==============================] - 0s 7ms/step - loss: 2.2160 - val_loss: 4.9506\n",
            "Epoch 16/100\n",
            "6/6 [==============================] - 0s 10ms/step - loss: 2.1600 - val_loss: 4.8562\n",
            "Epoch 17/100\n",
            "6/6 [==============================] - 0s 10ms/step - loss: 2.1145 - val_loss: 4.7618\n",
            "Epoch 18/100\n",
            "6/6 [==============================] - 0s 11ms/step - loss: 2.0756 - val_loss: 4.6607\n",
            "Epoch 19/100\n",
            "6/6 [==============================] - 0s 12ms/step - loss: 2.0344 - val_loss: 4.5581\n",
            "Epoch 20/100\n",
            "6/6 [==============================] - 0s 7ms/step - loss: 1.9865 - val_loss: 4.4621\n",
            "Epoch 21/100\n",
            "6/6 [==============================] - 0s 7ms/step - loss: 1.9343 - val_loss: 4.3789\n",
            "Epoch 22/100\n",
            "6/6 [==============================] - 0s 11ms/step - loss: 1.9059 - val_loss: 4.2808\n",
            "Epoch 23/100\n",
            "6/6 [==============================] - 0s 8ms/step - loss: 1.8523 - val_loss: 4.1982\n",
            "Epoch 24/100\n",
            "6/6 [==============================] - 0s 13ms/step - loss: 1.8173 - val_loss: 4.1091\n",
            "Epoch 25/100\n",
            "6/6 [==============================] - 0s 10ms/step - loss: 1.7719 - val_loss: 4.0289\n",
            "Epoch 26/100\n",
            "6/6 [==============================] - 0s 12ms/step - loss: 1.7416 - val_loss: 3.9380\n",
            "Epoch 27/100\n",
            "6/6 [==============================] - 0s 13ms/step - loss: 1.6975 - val_loss: 3.8553\n",
            "Epoch 28/100\n",
            "6/6 [==============================] - 0s 13ms/step - loss: 1.6584 - val_loss: 3.7750\n",
            "Epoch 29/100\n",
            "6/6 [==============================] - 0s 11ms/step - loss: 1.6270 - val_loss: 3.6892\n",
            "Epoch 30/100\n",
            "6/6 [==============================] - 0s 8ms/step - loss: 1.5882 - val_loss: 3.6077\n",
            "Epoch 31/100\n",
            "6/6 [==============================] - 0s 7ms/step - loss: 1.5491 - val_loss: 3.5315\n",
            "Epoch 32/100\n",
            "6/6 [==============================] - 0s 8ms/step - loss: 1.5136 - val_loss: 3.4569\n",
            "Epoch 33/100\n",
            "6/6 [==============================] - 0s 8ms/step - loss: 1.4769 - val_loss: 3.3872\n",
            "Epoch 34/100\n",
            "6/6 [==============================] - 0s 10ms/step - loss: 1.4521 - val_loss: 3.3066\n",
            "Epoch 35/100\n",
            "6/6 [==============================] - 0s 7ms/step - loss: 1.4104 - val_loss: 3.2379\n",
            "Epoch 36/100\n",
            "6/6 [==============================] - 0s 7ms/step - loss: 1.3804 - val_loss: 3.1672\n",
            "Epoch 37/100\n",
            "6/6 [==============================] - 0s 10ms/step - loss: 1.3473 - val_loss: 3.0988\n",
            "Epoch 38/100\n",
            "6/6 [==============================] - 0s 7ms/step - loss: 1.3254 - val_loss: 3.0210\n",
            "Epoch 39/100\n",
            "6/6 [==============================] - 0s 8ms/step - loss: 1.2901 - val_loss: 2.9497\n",
            "Epoch 40/100\n",
            "6/6 [==============================] - 0s 11ms/step - loss: 1.2535 - val_loss: 2.8874\n",
            "Epoch 41/100\n",
            "6/6 [==============================] - 0s 10ms/step - loss: 1.2220 - val_loss: 2.8296\n",
            "Epoch 42/100\n",
            "6/6 [==============================] - 0s 9ms/step - loss: 1.2040 - val_loss: 2.7590\n",
            "Epoch 43/100\n",
            "6/6 [==============================] - 0s 9ms/step - loss: 1.1647 - val_loss: 2.7036\n",
            "Epoch 44/100\n",
            "6/6 [==============================] - 0s 9ms/step - loss: 1.1450 - val_loss: 2.6382\n",
            "Epoch 45/100\n",
            "6/6 [==============================] - 0s 9ms/step - loss: 1.1178 - val_loss: 2.5742\n",
            "Epoch 46/100\n",
            "6/6 [==============================] - 0s 7ms/step - loss: 1.0853 - val_loss: 2.5183\n",
            "Epoch 47/100\n",
            "6/6 [==============================] - 0s 11ms/step - loss: 1.0611 - val_loss: 2.4610\n",
            "Epoch 48/100\n",
            "6/6 [==============================] - 0s 8ms/step - loss: 1.0330 - val_loss: 2.4087\n",
            "Epoch 49/100\n",
            "6/6 [==============================] - 0s 11ms/step - loss: 1.0161 - val_loss: 2.3469\n",
            "Epoch 50/100\n",
            "6/6 [==============================] - 0s 8ms/step - loss: 0.9866 - val_loss: 2.2922\n",
            "Epoch 51/100\n",
            "6/6 [==============================] - 0s 12ms/step - loss: 0.9588 - val_loss: 2.2438\n",
            "Epoch 52/100\n",
            "6/6 [==============================] - 0s 11ms/step - loss: 0.9387 - val_loss: 2.1914\n",
            "Epoch 53/100\n",
            "6/6 [==============================] - 0s 11ms/step - loss: 0.9165 - val_loss: 2.1388\n",
            "Epoch 54/100\n",
            "6/6 [==============================] - 0s 11ms/step - loss: 0.8943 - val_loss: 2.0869\n",
            "Epoch 55/100\n",
            "6/6 [==============================] - 0s 11ms/step - loss: 0.8678 - val_loss: 2.0429\n",
            "Epoch 56/100\n",
            "6/6 [==============================] - 0s 12ms/step - loss: 0.8505 - val_loss: 1.9931\n",
            "Epoch 57/100\n",
            "6/6 [==============================] - 0s 12ms/step - loss: 0.8277 - val_loss: 1.9466\n",
            "Epoch 58/100\n",
            "6/6 [==============================] - 0s 12ms/step - loss: 0.8072 - val_loss: 1.9008\n",
            "Epoch 59/100\n",
            "6/6 [==============================] - 0s 9ms/step - loss: 0.7876 - val_loss: 1.8553\n",
            "Epoch 60/100\n",
            "6/6 [==============================] - 0s 8ms/step - loss: 0.7676 - val_loss: 1.8108\n",
            "Epoch 61/100\n",
            "6/6 [==============================] - 0s 9ms/step - loss: 0.7487 - val_loss: 1.7668\n",
            "Epoch 62/100\n",
            "6/6 [==============================] - 0s 12ms/step - loss: 0.7330 - val_loss: 1.7197\n",
            "Epoch 63/100\n",
            "6/6 [==============================] - 0s 7ms/step - loss: 0.7104 - val_loss: 1.6790\n",
            "Epoch 64/100\n",
            "6/6 [==============================] - 0s 8ms/step - loss: 0.6953 - val_loss: 1.6353\n",
            "Epoch 65/100\n",
            "6/6 [==============================] - 0s 11ms/step - loss: 0.6767 - val_loss: 1.5940\n",
            "Epoch 66/100\n",
            "6/6 [==============================] - 0s 11ms/step - loss: 0.6575 - val_loss: 1.5562\n",
            "Epoch 67/100\n",
            "6/6 [==============================] - 0s 11ms/step - loss: 0.6398 - val_loss: 1.5208\n",
            "Epoch 68/100\n",
            "6/6 [==============================] - 0s 7ms/step - loss: 0.6304 - val_loss: 1.4775\n",
            "Epoch 69/100\n",
            "6/6 [==============================] - 0s 7ms/step - loss: 0.6068 - val_loss: 1.4447\n",
            "Epoch 70/100\n",
            "6/6 [==============================] - 0s 7ms/step - loss: 0.5969 - val_loss: 1.4051\n",
            "Epoch 71/100\n",
            "6/6 [==============================] - 0s 7ms/step - loss: 0.5762 - val_loss: 1.3734\n",
            "Epoch 72/100\n",
            "6/6 [==============================] - 0s 8ms/step - loss: 0.5640 - val_loss: 1.3385\n",
            "Epoch 73/100\n",
            "6/6 [==============================] - 0s 10ms/step - loss: 0.5502 - val_loss: 1.3034\n",
            "Epoch 74/100\n",
            "6/6 [==============================] - 0s 8ms/step - loss: 0.5335 - val_loss: 1.2728\n",
            "Epoch 75/100\n",
            "6/6 [==============================] - 0s 15ms/step - loss: 0.5197 - val_loss: 1.2427\n",
            "Epoch 76/100\n",
            "6/6 [==============================] - 0s 9ms/step - loss: 0.5094 - val_loss: 1.2089\n",
            "Epoch 77/100\n",
            "6/6 [==============================] - 0s 8ms/step - loss: 0.4956 - val_loss: 1.1767\n",
            "Epoch 78/100\n",
            "6/6 [==============================] - 0s 13ms/step - loss: 0.4799 - val_loss: 1.1495\n",
            "Epoch 79/100\n",
            "6/6 [==============================] - 0s 9ms/step - loss: 0.4713 - val_loss: 1.1176\n",
            "Epoch 80/100\n",
            "6/6 [==============================] - 0s 10ms/step - loss: 0.4602 - val_loss: 1.0853\n",
            "Epoch 81/100\n",
            "6/6 [==============================] - 0s 8ms/step - loss: 0.4440 - val_loss: 1.0591\n",
            "Epoch 82/100\n",
            "6/6 [==============================] - 0s 11ms/step - loss: 0.4331 - val_loss: 1.0325\n",
            "Epoch 83/100\n",
            "6/6 [==============================] - 0s 8ms/step - loss: 0.4208 - val_loss: 1.0082\n",
            "Epoch 84/100\n",
            "6/6 [==============================] - 0s 11ms/step - loss: 0.4129 - val_loss: 0.9800\n",
            "Epoch 85/100\n",
            "6/6 [==============================] - 0s 8ms/step - loss: 0.4011 - val_loss: 0.9539\n",
            "Epoch 86/100\n",
            "6/6 [==============================] - 0s 8ms/step - loss: 0.3906 - val_loss: 0.9285\n",
            "Epoch 87/100\n",
            "6/6 [==============================] - 0s 7ms/step - loss: 0.3800 - val_loss: 0.9045\n",
            "Epoch 88/100\n",
            "6/6 [==============================] - 0s 7ms/step - loss: 0.3709 - val_loss: 0.8799\n",
            "Epoch 89/100\n",
            "6/6 [==============================] - 0s 11ms/step - loss: 0.3599 - val_loss: 0.8578\n",
            "Epoch 90/100\n",
            "6/6 [==============================] - 0s 11ms/step - loss: 0.3509 - val_loss: 0.8357\n",
            "Epoch 91/100\n",
            "6/6 [==============================] - 0s 10ms/step - loss: 0.3435 - val_loss: 0.8121\n",
            "Epoch 92/100\n",
            "6/6 [==============================] - 0s 13ms/step - loss: 0.3317 - val_loss: 0.7932\n",
            "Epoch 93/100\n",
            "6/6 [==============================] - 0s 15ms/step - loss: 0.3264 - val_loss: 0.7701\n",
            "Epoch 94/100\n",
            "6/6 [==============================] - 0s 9ms/step - loss: 0.3163 - val_loss: 0.7496\n",
            "Epoch 95/100\n",
            "6/6 [==============================] - 0s 15ms/step - loss: 0.3071 - val_loss: 0.7312\n",
            "Epoch 96/100\n",
            "6/6 [==============================] - 0s 14ms/step - loss: 0.3004 - val_loss: 0.7115\n",
            "Epoch 97/100\n",
            "6/6 [==============================] - 0s 14ms/step - loss: 0.2919 - val_loss: 0.6935\n",
            "Epoch 98/100\n",
            "6/6 [==============================] - 0s 15ms/step - loss: 0.2863 - val_loss: 0.6733\n",
            "Epoch 99/100\n",
            "6/6 [==============================] - 0s 11ms/step - loss: 0.2763 - val_loss: 0.6576\n",
            "Epoch 100/100\n",
            "6/6 [==============================] - 0s 14ms/step - loss: 0.2696 - val_loss: 0.6417\n"
          ]
        },
        {
          "output_type": "execute_result",
          "data": {
            "text/plain": [
              "<keras.src.callbacks.History at 0x78986fe24e80>"
            ]
          },
          "metadata": {},
          "execution_count": 8
        }
      ]
    },
    {
      "cell_type": "code",
      "source": [
        "# 평가 및 예측\n",
        "loss = model.evaluate(x_test, y_test)\n",
        "result = model.predict([x])\n",
        "\n",
        "print(loss)\n",
        "print(result)"
      ],
      "metadata": {
        "colab": {
          "base_uri": "https://localhost:8080/"
        },
        "id": "vJrhJ95JVFWI",
        "outputId": "ce365c30-709f-4e07-e9a5-bb30161ec5dc"
      },
      "execution_count": null,
      "outputs": [
        {
          "output_type": "stream",
          "name": "stdout",
          "text": [
            "1/1 [==============================] - 0s 146ms/step - loss: 2.4661\n",
            "1/1 [==============================] - 0s 113ms/step\n",
            "2.4661083221435547\n",
            "[[-0.3397298 ]\n",
            " [ 0.91157365]\n",
            " [ 2.162877  ]\n",
            " [ 3.4141805 ]\n",
            " [ 4.665484  ]\n",
            " [ 5.9167876 ]\n",
            " [ 7.168091  ]\n",
            " [ 8.419394  ]\n",
            " [ 9.670698  ]\n",
            " [10.922001  ]]\n"
          ]
        }
      ]
    },
    {
      "cell_type": "code",
      "source": [
        "# 시각화\n",
        "import matplotlib.pyplot as plt\n",
        "plt.scatter(x,y)\n",
        "plt.plot(x,result)\n",
        "plt.show()"
      ],
      "metadata": {
        "colab": {
          "base_uri": "https://localhost:8080/",
          "height": 430
        },
        "id": "-va-NLjnVwUe",
        "outputId": "03c354d4-5778-4433-ee8b-9f57eea29b10"
      },
      "execution_count": null,
      "outputs": [
        {
          "output_type": "display_data",
          "data": {
            "text/plain": [
              "<Figure size 640x480 with 1 Axes>"
            ],
            "image/png": "[encoded data removed]"
          },
          "metadata": {}
        }
      ]
    }
  ]
}